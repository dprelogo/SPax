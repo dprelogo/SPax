{
 "cells": [
  {
   "cell_type": "code",
   "execution_count": 1,
   "metadata": {},
   "outputs": [],
   "source": [
    "import jax\n",
    "jax.config.update(\"jax_platform_name\", \"cpu\")\n",
    "jax.config.update(\"jax_enable_x64\", True)\n",
    "import numpy as np\n",
    "np.set_printoptions(precision=5, linewidth=150)\n",
    "import spax\n",
    "from datetime import datetime\n",
    "from sklearn.decomposition import PCA"
   ]
  },
  {
   "cell_type": "markdown",
   "metadata": {},
   "source": [
    "# Principle Component Analysis (PCA)\n",
    "Let X be $n \\times m$ matrix, where $n$ represents dimensionality of the data and $m$ number of samples.\n",
    "To prepare data for the PCA, it should be centered `X -= X.mean(axis = 1)`, and possibly whitened `X /= X.std(axis = 1)`. Whitening is done to scale dimensions to unit variance. This is specifically useful if data dimensions are in different units or represent different observables. PCA then consists of finding a rotation matrix which makes covariance of the data diagonal. Specifically, PCA of order $N$ does this rotation for $N$ largest eigenvalues of the covariance matrix.\n",
    "\n",
    "## Singular Value Decomposition (SVD)\n",
    "Every non-quadratic matrix can be decomposed as $$X = U \\, S \\, V^T \\, ,$$ where $U$ is $n \\times m$ matrix with orthonormal columns ($U^T \\, U = I$), $V$ is $m \\times m$ orthonormal matrix ($V^T \\, V = I$) and $S$ a diagonal $m\\times m$ matrix of singular values. From such decomposition one can write\n",
    "\\begin{align}\n",
    "X \\, X^T &= U \\, S^2 \\, U^T  \\, , \\\\\n",
    "X^T X &= V \\, S^2 \\, V^T \\, .\n",
    "\\end{align}\n",
    "Both $X \\, X^T$ and $X^T X$ have the same eigenvalues, with larger of the two having the rest equal to $0$."
   ]
  },
  {
   "cell_type": "markdown",
   "metadata": {},
   "source": [
    "## Case #1: $n \\le m$\n",
    "Covariance of the data can be written as $$ C = \\frac{1}{m-1} X \\, X^T = U \\, \\frac{S^2}{m-1} \\, U^T \\, .$$ Therefore, by solving an eigenvalue problem for $C$, we can find $U$. By picking $N$ eigenvectors in the directions of the largest eigenvalues, we construct $\\widetilde{U}$ used for PCA.\n",
    "\n",
    "For some matrix $X_0$ of size $n \\times m_0$, PCA is simply $$ Y_0 = \\widetilde{U}^T X_0$$."
   ]
  },
  {
   "cell_type": "code",
   "execution_count": 2,
   "metadata": {},
   "outputs": [
    {
     "name": "stdout",
     "output_type": "stream",
     "text": [
      "DURATION: 0:00:03.698620\n",
      "[8.12089 7.02699 5.98402 4.98791 3.96009]\n",
      "[8.06495 7.02951 5.96893 4.9869  3.98807]\n",
      "[[-0.  0.  0. -0.  0.  0.  0.  1.]\n",
      " [-0. -0.  0.  0. -0. -0.  1. -0.]\n",
      " [ 0.  0. -0.  0. -0.  1.  0. -0.]\n",
      " [ 0. -0. -0.  0.  1.  0.  0. -0.]\n",
      " [ 0.  0.  0.  1. -0. -0. -0.  0.]]\n"
     ]
    }
   ],
   "source": [
    "N_dim, N_samples = (8, 10**5)\n",
    "pca = spax.PCA_m(5, devices = jax.devices(\"gpu\"))\n",
    "data = np.random.normal(0, 1, size = (N_dim, N_samples)) * np.sqrt(np.arange(1, N_dim + 1))[:, np.newaxis]\n",
    "tic = datetime.now()\n",
    "pca.fit(data, batch_size = N_dim // 2) # N_dim % (N_devices * batch_size) == 0\n",
    "print(\"DURATION:\", datetime.now() - tic)\n",
    "sampled_data = pca.sample(N_samples)\n",
    "print(np.std(pca.transform(sampled_data), axis = 1)**2) # should be [8, 7, 6, 5, 4]\n",
    "print(pca.λ ** 2) # should be the same\n",
    "print(np.round(pca.U.T, 1)) # should be a +-unit matrix on last 5 dimensions"
   ]
  },
  {
   "cell_type": "code",
   "execution_count": 3,
   "metadata": {
    "tags": []
   },
   "outputs": [
    {
     "name": "stdout",
     "output_type": "stream",
     "text": [
      "DURATION: 0:00:00.174155\n",
      "[8.12079 7.02662 5.98345 4.98718 3.96037]\n",
      "[8.0649  7.02917 5.96963 4.98692 3.98784]\n",
      "[[ 0.  0.  0. -0.  0.  0.  0.  1.]\n",
      " [ 0.  0. -0. -0.  0.  0. -1.  0.]\n",
      " [ 0. -0.  0. -0.  0. -1. -0.  0.]\n",
      " [ 0.  0. -0. -0.  1.  0.  0. -0.]\n",
      " [-0. -0. -0. -1. -0.  0.  0. -0.]]\n"
     ]
    }
   ],
   "source": [
    "#testing the result with scikit-learn\n",
    "pca_sk = PCA(n_components = 5)\n",
    "tic = datetime.now()\n",
    "pca_sk.fit(data.T)\n",
    "print(\"DURATION:\", datetime.now() - tic)\n",
    "print(np.std(pca_sk.transform(sampled_data.T), axis = 0)**2)\n",
    "print(pca_sk.singular_values_**2 / (N_samples - 1))\n",
    "print(np.round(pca_sk.components_, 1))"
   ]
  },
  {
   "cell_type": "markdown",
   "metadata": {},
   "source": [
    "## Case #2 $n \\ge m$\n",
    "In this case, it is better to write: $$D = \\frac{1}{n} X^T \\, X = V \\, \\frac{S^2}{n} \\, V^T \\, .$$\n",
    "Solving eigenvector problem for $D$ gives us $V$ and $S$. Then, rotation matrix can be computed as $$ U = X \\, V \\, S^{-1} \\, .$$ The rest is the same as in previous case."
   ]
  },
  {
   "cell_type": "code",
   "execution_count": 4,
   "metadata": {},
   "outputs": [
    {
     "name": "stdout",
     "output_type": "stream",
     "text": [
      "DURATION: 0:00:01.556548\n",
      "[1.23227e+09 6.08565e+08 5.36228e+08 4.96250e+08 4.15412e+08]\n",
      "[7.22188e+08 7.18227e+08 7.16831e+08 7.11275e+08 7.10198e+08]\n",
      "[[-1.17121e-05 -1.80550e-05  2.99666e-05 ...  4.43493e-03  8.86737e-03 -3.01205e-03]\n",
      " [-1.57520e-05  2.42868e-05  9.46663e-06 ...  1.42047e-03 -5.75001e-04  2.65901e-03]\n",
      " [ 1.41894e-05 -7.96396e-06 -1.87146e-05 ... -3.91604e-03  3.46383e-03  6.83253e-03]\n",
      " [ 1.75867e-05 -5.89193e-07  1.60927e-05 ... -1.38143e-03 -2.13178e-03  1.18323e-02]\n",
      " [-9.72305e-06  1.98087e-06  5.18939e-06 ...  2.10904e-03  4.51607e-04 -1.85308e-04]]\n"
     ]
    }
   ],
   "source": [
    "N_dim, N_samples = (10**5, 8)\n",
    "pca = spax.PCA_m(5, devices = jax.devices(\"gpu\"))\n",
    "data = np.random.normal(0, 1, size = (N_dim, N_samples)) * np.sqrt(np.arange(1, N_dim + 1))[:, np.newaxis]\n",
    "tic = datetime.now()\n",
    "pca.fit(data, batch_size = N_dim // 2, centering_data = \"CPU\") # N_dim % (N_devices * batch_size) == 0\n",
    "print(\"DURATION:\", datetime.now() - tic)\n",
    "sampled_data = pca.sample(N_samples)\n",
    "print(np.std(pca.transform(sampled_data), axis = 1)**2)\n",
    "print(pca.λ ** 2)\n",
    "print(pca.U.T)"
   ]
  },
  {
   "cell_type": "code",
   "execution_count": 5,
   "metadata": {},
   "outputs": [
    {
     "name": "stdout",
     "output_type": "stream",
     "text": [
      "DURATION: 0:00:00.118940\n",
      "[1.23228e+09 6.08513e+08 5.36278e+08 4.96249e+08 4.15405e+08]\n",
      "[7.22188e+08 7.18227e+08 7.16831e+08 7.11274e+08 7.10197e+08]\n",
      "[[-1.17127e-05 -1.80534e-05  2.99671e-05 ...  4.43506e-03  8.86741e-03 -3.01168e-03]\n",
      " [ 1.57517e-05 -2.42885e-05 -9.46558e-06 ... -1.42032e-03  5.75860e-04 -2.65893e-03]\n",
      " [ 1.41891e-05 -7.96249e-06 -1.87133e-05 ... -3.91605e-03  3.46364e-03  6.83318e-03]\n",
      " [ 1.75858e-05 -5.89092e-07  1.60938e-05 ... -1.38124e-03 -2.13209e-03  1.18320e-02]\n",
      " [-9.72343e-06  1.98092e-06  5.18916e-06 ...  2.10920e-03  4.51624e-04 -1.85396e-04]]\n"
     ]
    }
   ],
   "source": [
    "pca_sk = PCA(n_components = 5)\n",
    "tic = datetime.now()\n",
    "pca_sk.fit(data.T)\n",
    "print(\"DURATION:\", datetime.now() - tic)\n",
    "print(np.std(pca_sk.transform(sampled_data.T), axis = 0)**2)\n",
    "print(pca_sk.singular_values_**2 / (N_samples - 1))\n",
    "print(pca_sk.components_)"
   ]
  },
  {
   "cell_type": "markdown",
   "metadata": {},
   "source": [
    "## Test save + load"
   ]
  },
  {
   "cell_type": "code",
   "execution_count": 6,
   "metadata": {},
   "outputs": [
    {
     "name": "stdout",
     "output_type": "stream",
     "text": [
      "[  2248.0647 -28313.857   20754.691   68855.44   -59270.133 ]\n",
      "[  2248.0647 -28313.857   20754.691   68855.44   -59270.133 ]\n",
      "[-59274.09708  68853.53357  20756.58006  28313.33214   2244.92584]\n"
     ]
    }
   ],
   "source": [
    "pca.save(\"test.hdf5\")\n",
    "pca_new = spax.PCA_m(5, devices = jax.devices(\"gpu\"))\n",
    "pca_new.load(\"test.hdf5\")\n",
    "\n",
    "x0 = np.arange(100000)[:, np.newaxis]\n",
    "print(pca.transform(x0).flatten())\n",
    "print(pca_new.transform(x0).flatten())\n",
    "print(pca_sk.transform(x0.T)[:, ::-1].flatten())"
   ]
  }
 ],
 "metadata": {
  "kernelspec": {
   "display_name": "Python 3",
   "language": "python",
   "name": "python3"
  },
  "language_info": {
   "codemirror_mode": {
    "name": "ipython",
    "version": 3
   },
   "file_extension": ".py",
   "mimetype": "text/x-python",
   "name": "python",
   "nbconvert_exporter": "python",
   "pygments_lexer": "ipython3",
   "version": "3.8.8"
  }
 },
 "nbformat": 4,
 "nbformat_minor": 4
}
