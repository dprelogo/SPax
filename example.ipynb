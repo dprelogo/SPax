{
 "cells": [
  {
   "cell_type": "code",
   "execution_count": 1,
   "metadata": {},
   "outputs": [],
   "source": [
    "import jax\n",
    "jax.config.update(\"jax_platform_name\", \"cpu\")\n",
    "jax.config.update(\"jax_enable_x64\", True)\n",
    "import numpy as np\n",
    "import spax\n",
    "from datetime import datetime"
   ]
  },
  {
   "cell_type": "markdown",
   "metadata": {},
   "source": [
    "# Principle Component Analysis (PCA)\n",
    "Let X be $n \\times m$ matrix, where $n$ represents dimensionality of the data and $m$ number of samples.\n",
    "To prepare data for the PCA, it should be centered `X -= X.mean(axis = 1)`, and possibly whitened `X /= X.std(axis = 1)`. Whitening is done to scale dimensions to unit variance. This is specifically useful if data dimensions are in different units or represent different observables. PCA then consists of finding a rotation matrix which makes covariance of the data diagonal. Specifically, PCA of order $N$ does this rotation for $N$ largest eigenvalues of the covariance matrix.\n",
    "\n",
    "## Singular Value Decomposition (SVD)\n",
    "Every non-quadratic matrix can be decomposed as $$X = U \\, S \\, V^T \\, ,$$ where $U$ is $n \\times m$ matrix with orthonormal columns ($U^T \\, U = I$), $V$ is $m \\times m$ orthonormal matrix ($V^T \\, V = I$) and $S$ a diagonal $m\\times m$ matrix of singular values. From such decomposition one can write\n",
    "\\begin{align}\n",
    "X \\, X^T &= U \\, S^2 \\, U^T  \\, , \\\\\n",
    "X^T X &= V \\, S^2 \\, V^T \\, .\n",
    "\\end{align}\n",
    "Both $X \\, X^T$ and $X^T X$ have the same eigenvalues, with larger of the two having the rest equal to $0$."
   ]
  },
  {
   "cell_type": "markdown",
   "metadata": {},
   "source": [
    "## Case #1: $n \\le m$\n",
    "Covariance of the data can be written as $$ C = \\frac{1}{m-1} X \\, X^T = U \\, \\frac{S^2}{m-1} \\, U^T \\, .$$ Therefore, by solving an eigenvalue problem for $C$, we can find $U$. By picking $N$ eigenvectors in the directions of the largest eigenvalues, we construct $\\widetilde{U}$ used for PCA.\n",
    "\n",
    "For some matrix $X_0$ of size $n \\times m_0$, PCA is simply $$ Y_0 = \\widetilde{U}^T X_0$$."
   ]
  },
  {
   "cell_type": "code",
   "execution_count": 2,
   "metadata": {},
   "outputs": [
    {
     "name": "stdout",
     "output_type": "stream",
     "text": [
      "[4.0087023 5.0025253 6.008477  6.993668  7.9928746]\n",
      "[3.9976556 5.001418  6.008531  6.989715  8.001953 ]\n",
      "[[-0. -0. -0.  1.  0. -0. -0. -0.]\n",
      " [ 0. -0. -0. -0.  1. -0. -0.  0.]\n",
      " [ 0.  0.  0.  0.  0.  1.  0.  0.]\n",
      " [-0. -0.  0.  0.  0. -0.  1. -0.]\n",
      " [-0.  0. -0.  0. -0. -0.  0.  1.]]\n"
     ]
    }
   ],
   "source": [
    "pca = spax.PCA_m(5, devices = jax.devices(\"gpu\"))\n",
    "data = np.random.normal(0, 1, size = (8, 1000000)) * np.sqrt(np.arange(1, 9))[:, np.newaxis]\n",
    "\n",
    "pca.fit(data, batch_size = 2) # N_dim % (N_devices * batch_size) == 0\n",
    "sampled_data = pca.sample(1000000)\n",
    "print(np.std(pca.transform(sampled_data), axis = 1, ddof = 1)**2) # should be [4, 5, 6, 7, 8]\n",
    "print(pca.λ ** 2) # should be the same\n",
    "print(np.round(pca.U.T, 1)) # should be a +-unit matrix on last 5 dimensions"
   ]
  },
  {
   "cell_type": "markdown",
   "metadata": {},
   "source": [
    "## Case #2 $n \\ge m$\n",
    "In this case, it is better to write: $$D = \\frac{1}{n} X^T \\, X = V \\, \\frac{S^2}{n} \\, V^T \\, .$$\n",
    "Solving eigenvector problem for $D$ gives us $V$ and $S$. Then, rotation matrix can be computed as $$ U = X \\, V \\, S^{-1} \\, .$$ The rest is the same as in previous case."
   ]
  },
  {
   "cell_type": "code",
   "execution_count": 3,
   "metadata": {},
   "outputs": [],
   "source": [
    "pca = spax.PCA_m(5, devices = jax.devices(\"gpu\"))\n",
    "data = np.random.normal(0, 1, size = (10**5, 10**4)).astype(np.float32) * np.sqrt(np.arange(1, 10**5 + 1)).astype(np.float32)[:, np.newaxis]"
   ]
  },
  {
   "cell_type": "code",
   "execution_count": 4,
   "metadata": {},
   "outputs": [
    {
     "name": "stdout",
     "output_type": "stream",
     "text": [
      "DURATION: 0:00:45.662287\n",
      "[941537.75 923491.56 916237.8  974216.4  917588.  ]\n",
      "[937998.07002875 938286.72793243 939743.96863667 940160.34365363\n",
      " 942715.25324863]\n",
      "[[-0.006 -0.003 -0.     0.009  0.002  0.001 -0.001  0.002  0.004  0.001]\n",
      " [-0.001  0.005 -0.005  0.003  0.003  0.     0.001 -0.006 -0.002 -0.005]\n",
      " [ 0.007 -0.002  0.011  0.003 -0.008 -0.003 -0.006  0.005  0.001  0.011]\n",
      " [-0.004  0.002 -0.001 -0.008 -0.005  0.     0.006  0.006 -0.003 -0.007]\n",
      " [-0.003 -0.003 -0.006 -0.004  0.003 -0.001 -0.003  0.001  0.001 -0.001]]\n"
     ]
    }
   ],
   "source": [
    "tic = datetime.now()\n",
    "pca.fit(data, batch_size = 5 * 10**4, centering_data = \"CPU\") # N_dim % (N_devices * batch_size) == 0\n",
    "print(\"DURATION:\", datetime.now() - tic)\n",
    "sampled_data = pca.sample(10**4)\n",
    "print(np.std(pca.transform(sampled_data), axis = 1, ddof = 1)**2)\n",
    "print(pca.λ ** 2)\n",
    "print(np.round(pca.U.T[:, -10:], 3))"
   ]
  },
  {
   "cell_type": "markdown",
   "metadata": {},
   "source": [
    "## Test save + load"
   ]
  },
  {
   "cell_type": "code",
   "execution_count": 5,
   "metadata": {},
   "outputs": [
    {
     "name": "stdout",
     "output_type": "stream",
     "text": [
      "[[ 37038.668]\n",
      " [-98532.23 ]\n",
      " [-24165.244]\n",
      " [ 91972.45 ]\n",
      " [-44349.188]]\n",
      "[[ 37038.668]\n",
      " [-98532.23 ]\n",
      " [-24165.244]\n",
      " [ 91972.45 ]\n",
      " [-44349.188]]\n"
     ]
    }
   ],
   "source": [
    "pca.save(\"test.hdf5\")\n",
    "pca_new = spax.PCA_m(5, devices = jax.devices(\"gpu\"))\n",
    "pca_new.load(\"test.hdf5\")\n",
    "\n",
    "x0 = np.arange(100000)[:, np.newaxis]\n",
    "print(pca.transform(x0))\n",
    "print(pca_new.transform(x0))"
   ]
  }
 ],
 "metadata": {
  "kernelspec": {
   "display_name": "Python 3",
   "language": "python",
   "name": "python3"
  },
  "language_info": {
   "codemirror_mode": {
    "name": "ipython",
    "version": 3
   },
   "file_extension": ".py",
   "mimetype": "text/x-python",
   "name": "python",
   "nbconvert_exporter": "python",
   "pygments_lexer": "ipython3",
   "version": "3.8.8"
  }
 },
 "nbformat": 4,
 "nbformat_minor": 4
}
